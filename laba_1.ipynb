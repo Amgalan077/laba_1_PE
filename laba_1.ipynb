{
 "cells": [
  {
   "cell_type": "code",
   "execution_count": 1,
   "metadata": {},
   "outputs": [],
   "source": [
    "from sklearn import svm\n",
    "from sklearn.model_selection import train_test_split\n",
    "from sklearn.decomposition import PCA, KernelPCA\n",
    "from sklearn.preprocessing import StandardScaler\n",
    "import pandas as pd\n",
    "import numpy as np\n",
    "import matplotlib.pyplot as plt\n",
    "import seaborn as sns"
   ]
  },
  {
   "cell_type": "markdown",
   "metadata": {},
   "source": [
    "### 1. Метод главных компонент\n",
    "##### Cингулярное матричные разложения"
   ]
  },
  {
   "cell_type": "code",
   "execution_count": 2,
   "metadata": {},
   "outputs": [],
   "source": [
    "# Модифицированный Грам-Шмидт\n",
    "def modified_gs(matrix: np.array) -> (np.array, np.array):\n",
    "    \n",
    "    n = matrix.shape[1]\n",
    "    q = np.array(matrix, dtype='float64')\n",
    "    r = np.zeros((n, n))\n",
    "    \n",
    "    for i in range(n):\n",
    "        a_i = q[:, i]\n",
    "        r[i, i] = np.linalg.norm(a_i)\n",
    "        a_i /= r[i, i]\n",
    "        \n",
    "        for j in range(i + 1, n):\n",
    "            a_j = q[:, j]\n",
    "            r[i, j] = a_i.T @ a_j\n",
    "            a_j -= r[i, j] * a_i\n",
    "            \n",
    "    return q, r\n",
    "\n",
    "def eigen_qr(A: np.array, iterations=1) -> (np.array, np.array):\n",
    "    Ak = np.copy(A)\n",
    "    n = A.shape[0]\n",
    "    QQ = np.eye(n)\n",
    "    \n",
    "    for k in range(iterations):\n",
    "        Q, R = modified_gs(Ak)\n",
    "        Ak = R @ Q\n",
    "        QQ = QQ @ Q\n",
    "\n",
    "    return Ak, QQ\n"
   ]
  }
 ],
 "metadata": {
  "kernelspec": {
   "display_name": "Python 3",
   "language": "python",
   "name": "python3"
  },
  "language_info": {
   "codemirror_mode": {
    "name": "ipython",
    "version": 3
   },
   "file_extension": ".py",
   "mimetype": "text/x-python",
   "name": "python",
   "nbconvert_exporter": "python",
   "pygments_lexer": "ipython3",
   "version": "3.9.18"
  }
 },
 "nbformat": 4,
 "nbformat_minor": 2
}
